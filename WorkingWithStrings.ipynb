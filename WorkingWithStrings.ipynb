{
  "nbformat": 4,
  "nbformat_minor": 0,
  "metadata": {
    "colab": {
      "name": "WorkingWithStrings.ipynb",
      "provenance": [],
      "authorship_tag": "ABX9TyOwuSTU9TXzbOebfjNWaKGW",
      "include_colab_link": true
    },
    "kernelspec": {
      "name": "python3",
      "display_name": "Python 3"
    }
  },
  "cells": [
    {
      "cell_type": "markdown",
      "metadata": {
        "id": "view-in-github",
        "colab_type": "text"
      },
      "source": [
        "<a href=\"https://colab.research.google.com/github/LRondina/my-first-binder/blob/master/WorkingWithStrings.ipynb\" target=\"_parent\"><img src=\"https://colab.research.google.com/assets/colab-badge.svg\" alt=\"Open In Colab\"/></a>"
      ]
    },
    {
      "cell_type": "markdown",
      "metadata": {
        "id": "XfvRbwwhLC8u"
      },
      "source": [
        "# Quick notebook to test features of strings"
      ]
    },
    {
      "cell_type": "code",
      "metadata": {
        "id": "l6qwXt04LCEz"
      },
      "source": [
        "message = \"This is Luca's message\""
      ],
      "execution_count": null,
      "outputs": []
    },
    {
      "cell_type": "code",
      "metadata": {
        "id": "weL7Ec4oLgf7",
        "outputId": "59c552e4-b714-4697-8611-b86a03d6a469",
        "colab": {
          "base_uri": "https://localhost:8080/",
          "height": 34
        }
      },
      "source": [
        "print(message)"
      ],
      "execution_count": null,
      "outputs": [
        {
          "output_type": "stream",
          "text": [
            "This is Luca's message\n"
          ],
          "name": "stdout"
        }
      ]
    },
    {
      "cell_type": "code",
      "metadata": {
        "id": "L4lQd1eTLk-u",
        "outputId": "ef16b030-82ee-47ed-e5a1-e50afcc572d7",
        "colab": {
          "base_uri": "https://localhost:8080/",
          "height": 102
        }
      },
      "source": [
        "message = \"\"\"\n",
        "This is a message\n",
        "over multiples\n",
        "lines of code\n",
        "\"\"\"\n",
        "\n",
        "print(message)"
      ],
      "execution_count": null,
      "outputs": [
        {
          "output_type": "stream",
          "text": [
            "\n",
            "This is a message\n",
            "over multiples\n",
            "lines of code\n",
            "\n"
          ],
          "name": "stdout"
        }
      ]
    },
    {
      "cell_type": "code",
      "metadata": {
        "id": "8rVuwjhUNJxN"
      },
      "source": [
        ""
      ],
      "execution_count": null,
      "outputs": []
    }
  ]
}