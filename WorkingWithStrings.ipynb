{
  "nbformat": 4,
  "nbformat_minor": 0,
  "metadata": {
    "colab": {
      "name": "WorkingWithStrings.ipynb",
      "provenance": [],
      "authorship_tag": "ABX9TyMlThAh/QpKn3V+QPZERz1f",
      "include_colab_link": true
    },
    "kernelspec": {
      "name": "python3",
      "display_name": "Python 3"
    }
  },
  "cells": [
    {
      "cell_type": "markdown",
      "metadata": {
        "id": "view-in-github",
        "colab_type": "text"
      },
      "source": [
        "<a href=\"https://colab.research.google.com/github/LRondina/my-first-binder/blob/master/WorkingWithStrings.ipynb\" target=\"_parent\"><img src=\"https://colab.research.google.com/assets/colab-badge.svg\" alt=\"Open In Colab\"/></a>"
      ]
    },
    {
      "cell_type": "markdown",
      "metadata": {
        "id": "XfvRbwwhLC8u"
      },
      "source": [
        "# Quick notebook to test features of strings"
      ]
    },
    {
      "cell_type": "code",
      "metadata": {
        "id": "l6qwXt04LCEz"
      },
      "source": [
        "message = \"This is Luca's message\""
      ],
      "execution_count": null,
      "outputs": []
    },
    {
      "cell_type": "code",
      "metadata": {
        "id": "weL7Ec4oLgf7",
        "outputId": "59c552e4-b714-4697-8611-b86a03d6a469",
        "colab": {
          "base_uri": "https://localhost:8080/",
          "height": 34
        }
      },
      "source": [
        "print(message)"
      ],
      "execution_count": null,
      "outputs": [
        {
          "output_type": "stream",
          "text": [
            "This is Luca's message\n"
          ],
          "name": "stdout"
        }
      ]
    },
    {
      "cell_type": "code",
      "metadata": {
        "id": "L4lQd1eTLk-u",
        "outputId": "ef16b030-82ee-47ed-e5a1-e50afcc572d7",
        "colab": {
          "base_uri": "https://localhost:8080/",
          "height": 102
        }
      },
      "source": [
        "message = \"\"\"\n",
        "This is a message\n",
        "over multiples\n",
        "lines of code\n",
        "\"\"\"\n",
        "\n",
        "print(message)"
      ],
      "execution_count": null,
      "outputs": [
        {
          "output_type": "stream",
          "text": [
            "\n",
            "This is a message\n",
            "over multiples\n",
            "lines of code\n",
            "\n"
          ],
          "name": "stdout"
        }
      ]
    },
    {
      "cell_type": "code",
      "metadata": {
        "id": "W38QMXPuVVPB",
        "outputId": "2331e29e-e9c6-4744-bf08-1808ca1ae526",
        "colab": {
          "base_uri": "https://localhost:8080/",
          "height": 34
        }
      },
      "source": [
        "print(\"The length of the previous message is \", len(message))"
      ],
      "execution_count": null,
      "outputs": [
        {
          "output_type": "stream",
          "text": [
            "The length of the previous message is  48\n"
          ],
          "name": "stdout"
        }
      ]
    },
    {
      "cell_type": "code",
      "metadata": {
        "id": "erlZK0u0QdwX"
      },
      "source": [
        "print??"
      ],
      "execution_count": null,
      "outputs": []
    },
    {
      "cell_type": "code",
      "metadata": {
        "id": "Xd3Om1eYRJLG",
        "outputId": "8ca53d48-0661-43ad-9dba-8a92052c7f2d",
        "colab": {
          "base_uri": "https://localhost:8080/",
          "height": 34
        }
      },
      "source": [
        "print(\"Print\",\"method\",\"can\",\"take\",\"multiple\",\"inputs\",\"and\",\"separates\",\"them\",\"by\",\"default\",\"by\",\"using\",\"a\",\"whitespace\")"
      ],
      "execution_count": null,
      "outputs": [
        {
          "output_type": "stream",
          "text": [
            "Print method can take multiple inputs and separates them by default by using a whitespace\n"
          ],
          "name": "stdout"
        }
      ]
    },
    {
      "cell_type": "code",
      "metadata": {
        "id": "p1_B-FtJR7Rr",
        "outputId": "b9684c55-0f44-4f19-f2be-d492d93aee88",
        "colab": {
          "base_uri": "https://localhost:8080/",
          "height": 34
        }
      },
      "source": [
        "print(\"Print\",\"method\",\"can\",\"take\",\"multiple\",\"inputs\",\"which\",\"can\",\"be\",\"separated\",\"by\",\"other\",\"things\", sep='-')"
      ],
      "execution_count": null,
      "outputs": [
        {
          "output_type": "stream",
          "text": [
            "Print-method-can-take-multiple-inputs-which-can-be-separated-by-other-things\n"
          ],
          "name": "stdout"
        }
      ]
    },
    {
      "cell_type": "markdown",
      "metadata": {
        "id": "XmDxiv-OVvSD"
      },
      "source": [
        "this is an added line!"
      ]
    }
  ]
}